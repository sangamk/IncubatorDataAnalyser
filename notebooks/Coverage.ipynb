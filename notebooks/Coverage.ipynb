{
 "cells": [
  {
   "cell_type": "markdown",
   "metadata": {},
   "source": []
  },
  {
   "cell_type": "code",
   "execution_count": 12,
   "metadata": {},
   "outputs": [
    {
     "name": "stdout",
     "output_type": "stream",
     "text": [
      "Number of apps: \n252\n"
     ]
    },
    {
     "name": "stdout",
     "output_type": "stream",
     "text": [
      "Total covered methods:\n1734788\n"
     ]
    },
    {
     "name": "stdout",
     "output_type": "stream",
     "text": [
      "Everything is good!\n"
     ]
    }
   ],
   "source": [
    "import DataLoader\n",
    "import importlib\n",
    "import pandas as pd\n",
    "import CoverageHelper\n",
    "\n",
    "%matplotlib inline\n",
    "importlib.reload(DataLoader)\n",
    "coverage_df = DataLoader.load_csv_coverage()\n"
   ]
  },
  {
   "cell_type": "heading",
   "metadata": {},
   "level": 2,
   "source": [
    "Coverage report"
   ]
  },
  {
   "cell_type": "code",
   "execution_count": 13,
   "metadata": {
    "collapsed": false
   },
   "outputs": [
    {
     "data": {
      "text/html": [
       "<div>\n",
       "<style scoped>\n",
       "    .dataframe tbody tr th:only-of-type {\n",
       "        vertical-align: middle;\n",
       "    }\n",
       "\n",
       "    .dataframe tbody tr th {\n",
       "        vertical-align: top;\n",
       "    }\n",
       "\n",
       "    .dataframe thead th {\n",
       "        text-align: right;\n",
       "    }\n",
       "</style>\n",
       "<table border=\"1\" class=\"dataframe\">\n",
       "  <thead>\n",
       "    <tr style=\"text-align: right;\">\n",
       "      <th></th>\n",
       "      <th>package</th>\n",
       "      <th>class</th>\n",
       "      <th>method</th>\n",
       "      <th>strategy</th>\n",
       "      <th>coverage_type</th>\n",
       "      <th>coverage_percentage</th>\n",
       "      <th>covered_lines</th>\n",
       "      <th>total_lines</th>\n",
       "      <th>app</th>\n",
       "    </tr>\n",
       "  </thead>\n",
       "  <tbody>\n",
       "    <tr>\n",
       "      <th>0</th>\n",
       "      <td>com.manheim.mobile.ManualVinEntry</td>\n",
       "      <td>com.manheim.mobile.ManualVinEntry.ManualEntryA...</td>\n",
       "      <td>ManualEntryActivity (): void</td>\n",
       "      <td>systematic</td>\n",
       "      <td>method</td>\n",
       "      <td>0</td>\n",
       "      <td>0</td>\n",
       "      <td>1</td>\n",
       "      <td>com.manheim.mobile</td>\n",
       "    </tr>\n",
       "    <tr>\n",
       "      <th>1</th>\n",
       "      <td>com.manheim.mobile.ManualVinEntry</td>\n",
       "      <td>com.manheim.mobile.ManualVinEntry.ManualEntryA...</td>\n",
       "      <td>ManualEntryActivity (): void</td>\n",
       "      <td>systematic</td>\n",
       "      <td>block</td>\n",
       "      <td>0</td>\n",
       "      <td>0</td>\n",
       "      <td>3</td>\n",
       "      <td>com.manheim.mobile</td>\n",
       "    </tr>\n",
       "    <tr>\n",
       "      <th>2</th>\n",
       "      <td>com.manheim.mobile.ManualVinEntry</td>\n",
       "      <td>com.manheim.mobile.ManualVinEntry.ManualEntryA...</td>\n",
       "      <td>access$000 (ManualEntryActivity): void</td>\n",
       "      <td>systematic</td>\n",
       "      <td>method</td>\n",
       "      <td>0</td>\n",
       "      <td>0</td>\n",
       "      <td>1</td>\n",
       "      <td>com.manheim.mobile</td>\n",
       "    </tr>\n",
       "    <tr>\n",
       "      <th>3</th>\n",
       "      <td>com.manheim.mobile.ManualVinEntry</td>\n",
       "      <td>com.manheim.mobile.ManualVinEntry.ManualEntryA...</td>\n",
       "      <td>access$000 (ManualEntryActivity): void</td>\n",
       "      <td>systematic</td>\n",
       "      <td>block</td>\n",
       "      <td>0</td>\n",
       "      <td>0</td>\n",
       "      <td>3</td>\n",
       "      <td>com.manheim.mobile</td>\n",
       "    </tr>\n",
       "    <tr>\n",
       "      <th>4</th>\n",
       "      <td>com.manheim.mobile.ManualVinEntry</td>\n",
       "      <td>com.manheim.mobile.ManualVinEntry.ManualEntryA...</td>\n",
       "      <td>access$100 (ManualEntryActivity): SelectableEd...</td>\n",
       "      <td>systematic</td>\n",
       "      <td>method</td>\n",
       "      <td>0</td>\n",
       "      <td>0</td>\n",
       "      <td>1</td>\n",
       "      <td>com.manheim.mobile</td>\n",
       "    </tr>\n",
       "  </tbody>\n",
       "</table>\n",
       "</div>"
      ],
      "text/plain": [
       "<div>\n",
       "<style scoped>\n",
       "    .dataframe tbody tr th:only-of-type {\n",
       "        vertical-align: middle;\n",
       "    }\n",
       "\n",
       "    .dataframe tbody tr th {\n",
       "        vertical-align: top;\n",
       "    }\n",
       "\n",
       "    .dataframe thead th {\n",
       "        text-align: right;\n",
       "    }\n",
       "</style>\n",
       "<table border=\"1\" class=\"dataframe\">\n",
       "  <thead>\n",
       "    <tr style=\"text-align: right;\">\n",
       "      <th></th>\n",
       "      <th>package</th>\n",
       "      <th>class</th>\n",
       "      <th>method</th>\n",
       "      <th>strategy</th>\n",
       "      <th>coverage_type</th>\n",
       "      <th>coverage_percentage</th>\n",
       "      <th>covered_lines</th>\n",
       "      <th>total_lines</th>\n",
       "      <th>app</th>\n",
       "    </tr>\n",
       "  </thead>\n",
       "  <tbody>\n",
       "    <tr>\n",
       "      <th>0</th>\n",
       "      <td>com.manheim.mobile.ManualVinEntry</td>\n",
       "      <td>com.manheim.mobile.ManualVinEntry.ManualEntryA...</td>\n",
       "      <td>ManualEntryActivity (): void</td>\n",
       "      <td>systematic</td>\n",
       "      <td>method</td>\n",
       "      <td>0</td>\n",
       "      <td>0</td>\n",
       "      <td>1</td>\n",
       "      <td>com.manheim.mobile</td>\n",
       "    </tr>\n",
       "    <tr>\n",
       "      <th>1</th>\n",
       "      <td>com.manheim.mobile.ManualVinEntry</td>\n",
       "      <td>com.manheim.mobile.ManualVinEntry.ManualEntryA...</td>\n",
       "      <td>ManualEntryActivity (): void</td>\n",
       "      <td>systematic</td>\n",
       "      <td>block</td>\n",
       "      <td>0</td>\n",
       "      <td>0</td>\n",
       "      <td>3</td>\n",
       "      <td>com.manheim.mobile</td>\n",
       "    </tr>\n",
       "    <tr>\n",
       "      <th>2</th>\n",
       "      <td>com.manheim.mobile.ManualVinEntry</td>\n",
       "      <td>com.manheim.mobile.ManualVinEntry.ManualEntryA...</td>\n",
       "      <td>access$000 (ManualEntryActivity): void</td>\n",
       "      <td>systematic</td>\n",
       "      <td>method</td>\n",
       "      <td>0</td>\n",
       "      <td>0</td>\n",
       "      <td>1</td>\n",
       "      <td>com.manheim.mobile</td>\n",
       "    </tr>\n",
       "    <tr>\n",
       "      <th>3</th>\n",
       "      <td>com.manheim.mobile.ManualVinEntry</td>\n",
       "      <td>com.manheim.mobile.ManualVinEntry.ManualEntryA...</td>\n",
       "      <td>access$000 (ManualEntryActivity): void</td>\n",
       "      <td>systematic</td>\n",
       "      <td>block</td>\n",
       "      <td>0</td>\n",
       "      <td>0</td>\n",
       "      <td>3</td>\n",
       "      <td>com.manheim.mobile</td>\n",
       "    </tr>\n",
       "    <tr>\n",
       "      <th>4</th>\n",
       "      <td>com.manheim.mobile.ManualVinEntry</td>\n",
       "      <td>com.manheim.mobile.ManualVinEntry.ManualEntryA...</td>\n",
       "      <td>access$100 (ManualEntryActivity): SelectableEd...</td>\n",
       "      <td>systematic</td>\n",
       "      <td>method</td>\n",
       "      <td>0</td>\n",
       "      <td>0</td>\n",
       "      <td>1</td>\n",
       "      <td>com.manheim.mobile</td>\n",
       "    </tr>\n",
       "  </tbody>\n",
       "</table>\n",
       "</div>"
      ]
     },
     "execution_count": 13,
     "metadata": {},
     "output_type": "execute_result"
    }
   ],
   "source": [
    "coverage_df.head()"
   ]
  },
  {
   "cell_type": "heading",
   "metadata": {},
   "level": 3,
   "source": [
    "Systematic App coverage"
   ]
  },
  {
   "cell_type": "code",
   "execution_count": 14,
   "metadata": {
    "collapsed": true
   },
   "outputs": [
    {
     "data": {
      "text/plain": [
       "app\ncom.junjundroid.gordyn                              91.304348\ncom.snaptattooadder                                 81.538462\ncom.watchtv.freetv                                  78.947368\ncom.nglish.spanish.english.translator               75.342466\ncom.monotype.android.font.handwritefontstylefree    66.666667\nName: coverage_percentage, dtype: float64"
      ]
     },
     "execution_count": 14,
     "metadata": {},
     "output_type": "execute_result"
    }
   ],
   "source": [
    "systematic_method_coverage = CoverageHelper.filter(\"method\", \"systematic\", coverage_df)\n",
    "systematic_coverage_per_app = systematic_method_coverage.groupby([\"app\"])['coverage_percentage'].apply(\n",
    "    lambda x: x.sum() / x.count()).sort_values(ascending=False)\n",
    "systematic_coverage_per_app.head()\n",
    "# systematic_coverage_per_app.plot.box()\n"
   ]
  },
  {
   "cell_type": "heading",
   "metadata": {},
   "level": 3,
   "source": [
    "Random App coverage"
   ]
  },
  {
   "cell_type": "code",
   "execution_count": 15,
   "metadata": {},
   "outputs": [
    {
     "data": {
      "text/plain": [
       "app\ncom.snaptattooadder               95.384615\ncom.watchtv.freetv                94.736842\ncom.junjundroid.gordyn            91.304348\nuk.co.resortmarketing.curryguy    64.627660\nru.alexko.regionalcodes           64.285714\nName: coverage_percentage, dtype: float64"
      ]
     },
     "execution_count": 15,
     "metadata": {},
     "output_type": "execute_result"
    }
   ],
   "source": [
    "random_method_coverage = CoverageHelper.filter(\"method\", \"random\", coverage_df)\n",
    "random_coverage_per_app = random_method_coverage.groupby([\"app\"])['coverage_percentage'].apply(\n",
    "    lambda x: x.sum() / x.count()).sort_values(ascending=False)\n",
    "random_coverage_per_app.head()\n",
    "# random_coverage_per_app.plot.box()"
   ]
  },
  {
   "cell_type": "heading",
   "metadata": {},
   "level": 3,
   "source": [
    "Plot random vs systematic app coverage per app"
   ]
  },
  {
   "cell_type": "code",
   "execution_count": 16,
   "metadata": {
    "collapsed": true
   },
   "outputs": [
    {
     "data": {
      "text/plain": [
       "<matplotlib.axes._subplots.AxesSubplot at 0x280a10553c8>"
      ]
     },
     "execution_count": 16,
     "metadata": {},
     "output_type": "execute_result"
    },
    {
     "data": {
      "image/png": "[encoded data removed]",
      "text/plain": [
       "<Figure size 432x288 with 1 Axes>"
      ]
     },
     "metadata": {},
     "output_type": "display_data"
    },
    {
     "data": {
      "image/png": "[encoded data removed]",
      "text/plain": [
       "<Figure size 432x288 with 1 Axes>"
      ]
     },
     "metadata": {},
     "output_type": "display_data"
    }
   ],
   "source": [
    "random_and_systematic_coverage = pd.concat(\n",
    "    [random_coverage_per_app.rename('random'), systematic_coverage_per_app.rename('systematic')], axis=1,\n",
    "    sort=False)\n",
    "# random_and_systematic_coverage = random_and_systematic_coverage[\n",
    "#     (random_and_systematic_coverage.random != 0) & (random_and_systematic_coverage.systematic != 0)]\n",
    "random_and_systematic_coverage.plot.box()\n",
    "random_and_systematic_coverage.plot()"
   ]
  },
  {
   "cell_type": "code",
   "execution_count": 17,
   "metadata": {},
   "outputs": [
    {
     "data": {
      "text/html": [
       "<div>\n",
       "<style scoped>\n",
       "    .dataframe tbody tr th:only-of-type {\n",
       "        vertical-align: middle;\n",
       "    }\n",
       "\n",
       "    .dataframe tbody tr th {\n",
       "        vertical-align: top;\n",
       "    }\n",
       "\n",
       "    .dataframe thead th {\n",
       "        text-align: right;\n",
       "    }\n",
       "</style>\n",
       "<table border=\"1\" class=\"dataframe\">\n",
       "  <thead>\n",
       "    <tr style=\"text-align: right;\">\n",
       "      <th></th>\n",
       "      <th>random</th>\n",
       "      <th>systematic</th>\n",
       "    </tr>\n",
       "  </thead>\n",
       "  <tbody>\n",
       "    <tr>\n",
       "      <th>count</th>\n",
       "      <td>252.000000</td>\n",
       "      <td>252.000000</td>\n",
       "    </tr>\n",
       "    <tr>\n",
       "      <th>mean</th>\n",
       "      <td>21.395156</td>\n",
       "      <td>19.994028</td>\n",
       "    </tr>\n",
       "    <tr>\n",
       "      <th>std</th>\n",
       "      <td>18.172867</td>\n",
       "      <td>17.704611</td>\n",
       "    </tr>\n",
       "    <tr>\n",
       "      <th>min</th>\n",
       "      <td>0.000000</td>\n",
       "      <td>0.000000</td>\n",
       "    </tr>\n",
       "    <tr>\n",
       "      <th>25%</th>\n",
       "      <td>8.020505</td>\n",
       "      <td>6.508599</td>\n",
       "    </tr>\n",
       "    <tr>\n",
       "      <th>50%</th>\n",
       "      <td>17.226094</td>\n",
       "      <td>15.273761</td>\n",
       "    </tr>\n",
       "    <tr>\n",
       "      <th>75%</th>\n",
       "      <td>31.555451</td>\n",
       "      <td>29.340382</td>\n",
       "    </tr>\n",
       "    <tr>\n",
       "      <th>max</th>\n",
       "      <td>95.384615</td>\n",
       "      <td>91.304348</td>\n",
       "    </tr>\n",
       "  </tbody>\n",
       "</table>\n",
       "</div>"
      ],
      "text/plain": [
       "<div>\n",
       "<style scoped>\n",
       "    .dataframe tbody tr th:only-of-type {\n",
       "        vertical-align: middle;\n",
       "    }\n",
       "\n",
       "    .dataframe tbody tr th {\n",
       "        vertical-align: top;\n",
       "    }\n",
       "\n",
       "    .dataframe thead th {\n",
       "        text-align: right;\n",
       "    }\n",
       "</style>\n",
       "<table border=\"1\" class=\"dataframe\">\n",
       "  <thead>\n",
       "    <tr style=\"text-align: right;\">\n",
       "      <th></th>\n",
       "      <th>random</th>\n",
       "      <th>systematic</th>\n",
       "    </tr>\n",
       "  </thead>\n",
       "  <tbody>\n",
       "    <tr>\n",
       "      <th>count</th>\n",
       "      <td>252.000000</td>\n",
       "      <td>252.000000</td>\n",
       "    </tr>\n",
       "    <tr>\n",
       "      <th>mean</th>\n",
       "      <td>21.395156</td>\n",
       "      <td>19.994028</td>\n",
       "    </tr>\n",
       "    <tr>\n",
       "      <th>std</th>\n",
       "      <td>18.172867</td>\n",
       "      <td>17.704611</td>\n",
       "    </tr>\n",
       "    <tr>\n",
       "      <th>min</th>\n",
       "      <td>0.000000</td>\n",
       "      <td>0.000000</td>\n",
       "    </tr>\n",
       "    <tr>\n",
       "      <th>25%</th>\n",
       "      <td>8.020505</td>\n",
       "      <td>6.508599</td>\n",
       "    </tr>\n",
       "    <tr>\n",
       "      <th>50%</th>\n",
       "      <td>17.226094</td>\n",
       "      <td>15.273761</td>\n",
       "    </tr>\n",
       "    <tr>\n",
       "      <th>75%</th>\n",
       "      <td>31.555451</td>\n",
       "      <td>29.340382</td>\n",
       "    </tr>\n",
       "    <tr>\n",
       "      <th>max</th>\n",
       "      <td>95.384615</td>\n",
       "      <td>91.304348</td>\n",
       "    </tr>\n",
       "  </tbody>\n",
       "</table>\n",
       "</div>"
      ]
     },
     "execution_count": 17,
     "metadata": {},
     "output_type": "execute_result"
    }
   ],
   "source": [
    "random_and_systematic_coverage.describe()"
   ]
  },
  {
   "cell_type": "heading",
   "metadata": {},
   "level": 3,
   "source": [
    "Block app coverage"
   ]
  },
  {
   "cell_type": "code",
   "execution_count": 18,
   "metadata": {},
   "outputs": [
    {
     "data": {
      "text/html": [
       "<div>\n",
       "<style scoped>\n",
       "    .dataframe tbody tr th:only-of-type {\n",
       "        vertical-align: middle;\n",
       "    }\n",
       "\n",
       "    .dataframe tbody tr th {\n",
       "        vertical-align: top;\n",
       "    }\n",
       "\n",
       "    .dataframe thead th {\n",
       "        text-align: right;\n",
       "    }\n",
       "</style>\n",
       "<table border=\"1\" class=\"dataframe\">\n",
       "  <thead>\n",
       "    <tr style=\"text-align: right;\">\n",
       "      <th></th>\n",
       "      <th>covered_lines</th>\n",
       "      <th>total_lines</th>\n",
       "      <th>percentage_covered</th>\n",
       "    </tr>\n",
       "  </thead>\n",
       "  <tbody>\n",
       "    <tr>\n",
       "      <th>count</th>\n",
       "      <td>252.000000</td>\n",
       "      <td>252.000000</td>\n",
       "      <td>252.000000</td>\n",
       "    </tr>\n",
       "    <tr>\n",
       "      <th>mean</th>\n",
       "      <td>4178.198413</td>\n",
       "      <td>41690.591270</td>\n",
       "      <td>19.177097</td>\n",
       "    </tr>\n",
       "    <tr>\n",
       "      <th>std</th>\n",
       "      <td>7302.330624</td>\n",
       "      <td>76213.849653</td>\n",
       "      <td>17.575658</td>\n",
       "    </tr>\n",
       "    <tr>\n",
       "      <th>min</th>\n",
       "      <td>0.000000</td>\n",
       "      <td>18.000000</td>\n",
       "      <td>0.000000</td>\n",
       "    </tr>\n",
       "    <tr>\n",
       "      <th>25%</th>\n",
       "      <td>347.250000</td>\n",
       "      <td>2116.250000</td>\n",
       "      <td>5.929015</td>\n",
       "    </tr>\n",
       "    <tr>\n",
       "      <th>50%</th>\n",
       "      <td>1480.500000</td>\n",
       "      <td>10568.500000</td>\n",
       "      <td>13.778127</td>\n",
       "    </tr>\n",
       "    <tr>\n",
       "      <th>75%</th>\n",
       "      <td>4470.500000</td>\n",
       "      <td>35218.250000</td>\n",
       "      <td>27.730758</td>\n",
       "    </tr>\n",
       "    <tr>\n",
       "      <th>max</th>\n",
       "      <td>41327.000000</td>\n",
       "      <td>498797.000000</td>\n",
       "      <td>91.884380</td>\n",
       "    </tr>\n",
       "  </tbody>\n",
       "</table>\n",
       "</div>"
      ],
      "text/plain": [
       "<div>\n",
       "<style scoped>\n",
       "    .dataframe tbody tr th:only-of-type {\n",
       "        vertical-align: middle;\n",
       "    }\n",
       "\n",
       "    .dataframe tbody tr th {\n",
       "        vertical-align: top;\n",
       "    }\n",
       "\n",
       "    .dataframe thead th {\n",
       "        text-align: right;\n",
       "    }\n",
       "</style>\n",
       "<table border=\"1\" class=\"dataframe\">\n",
       "  <thead>\n",
       "    <tr style=\"text-align: right;\">\n",
       "      <th></th>\n",
       "      <th>covered_lines</th>\n",
       "      <th>total_lines</th>\n",
       "      <th>percentage_covered</th>\n",
       "    </tr>\n",
       "  </thead>\n",
       "  <tbody>\n",
       "    <tr>\n",
       "      <th>count</th>\n",
       "      <td>252.000000</td>\n",
       "      <td>252.000000</td>\n",
       "      <td>252.000000</td>\n",
       "    </tr>\n",
       "    <tr>\n",
       "      <th>mean</th>\n",
       "      <td>4178.198413</td>\n",
       "      <td>41690.591270</td>\n",
       "      <td>19.177097</td>\n",
       "    </tr>\n",
       "    <tr>\n",
       "      <th>std</th>\n",
       "      <td>7302.330624</td>\n",
       "      <td>76213.849653</td>\n",
       "      <td>17.575658</td>\n",
       "    </tr>\n",
       "    <tr>\n",
       "      <th>min</th>\n",
       "      <td>0.000000</td>\n",
       "      <td>18.000000</td>\n",
       "      <td>0.000000</td>\n",
       "    </tr>\n",
       "    <tr>\n",
       "      <th>25%</th>\n",
       "      <td>347.250000</td>\n",
       "      <td>2116.250000</td>\n",
       "      <td>5.929015</td>\n",
       "    </tr>\n",
       "    <tr>\n",
       "      <th>50%</th>\n",
       "      <td>1480.500000</td>\n",
       "      <td>10568.500000</td>\n",
       "      <td>13.778127</td>\n",
       "    </tr>\n",
       "    <tr>\n",
       "      <th>75%</th>\n",
       "      <td>4470.500000</td>\n",
       "      <td>35218.250000</td>\n",
       "      <td>27.730758</td>\n",
       "    </tr>\n",
       "    <tr>\n",
       "      <th>max</th>\n",
       "      <td>41327.000000</td>\n",
       "      <td>498797.000000</td>\n",
       "      <td>91.884380</td>\n",
       "    </tr>\n",
       "  </tbody>\n",
       "</table>\n",
       "</div>"
      ]
     },
     "execution_count": 18,
     "metadata": {},
     "output_type": "execute_result"
    }
   ],
   "source": [
    "random_block_coverage_per_app = random_coverage_per_app = \\\n",
    "    CoverageHelper.filter(\"block\", \"random\", coverage_df).groupby([\"app\"])[\n",
    "        ['covered_lines', 'total_lines']].apply(\n",
    "        lambda x: x.sum())\n",
    "random_block_coverage_per_app['percentage_covered'] = (random_block_coverage_per_app.covered_lines / random_block_coverage_per_app.total_lines) * 100\n",
    "random_block_coverage_per_app.head()\n",
    "random_block_coverage_per_app.describe()\n"
   ]
  },
  {
   "cell_type": "code",
   "execution_count": 24,
   "metadata": {},
   "outputs": [
    {
     "data": {
      "text/html": [
       "<div>\n",
       "<style scoped>\n",
       "    .dataframe tbody tr th:only-of-type {\n",
       "        vertical-align: middle;\n",
       "    }\n",
       "\n",
       "    .dataframe tbody tr th {\n",
       "        vertical-align: top;\n",
       "    }\n",
       "\n",
       "    .dataframe thead th {\n",
       "        text-align: right;\n",
       "    }\n",
       "</style>\n",
       "<table border=\"1\" class=\"dataframe\">\n",
       "  <thead>\n",
       "    <tr style=\"text-align: right;\">\n",
       "      <th></th>\n",
       "      <th>covered_lines</th>\n",
       "      <th>total_lines</th>\n",
       "      <th>percentage_covered</th>\n",
       "    </tr>\n",
       "    <tr>\n",
       "      <th>app</th>\n",
       "      <th></th>\n",
       "      <th></th>\n",
       "      <th></th>\n",
       "    </tr>\n",
       "  </thead>\n",
       "  <tbody>\n",
       "    <tr>\n",
       "      <th>alex.map.maps</th>\n",
       "      <td>121</td>\n",
       "      <td>1711</td>\n",
       "      <td>7.071888</td>\n",
       "    </tr>\n",
       "    <tr>\n",
       "      <th>androidlab.carlog</th>\n",
       "      <td>1574</td>\n",
       "      <td>13198</td>\n",
       "      <td>11.926049</td>\n",
       "    </tr>\n",
       "    <tr>\n",
       "      <th>bestfreelivewallpapers.funny_photo_editor</th>\n",
       "      <td>2647</td>\n",
       "      <td>60684</td>\n",
       "      <td>4.361941</td>\n",
       "    </tr>\n",
       "    <tr>\n",
       "      <th>biz.andxor.hearingaid</th>\n",
       "      <td>367</td>\n",
       "      <td>2840</td>\n",
       "      <td>12.922535</td>\n",
       "    </tr>\n",
       "    <tr>\n",
       "      <th>block.app.wars</th>\n",
       "      <td>0</td>\n",
       "      <td>223</td>\n",
       "      <td>0.000000</td>\n",
       "    </tr>\n",
       "  </tbody>\n",
       "</table>\n",
       "</div>"
      ],
      "text/plain": [
       "<div>\n",
       "<style scoped>\n",
       "    .dataframe tbody tr th:only-of-type {\n",
       "        vertical-align: middle;\n",
       "    }\n",
       "\n",
       "    .dataframe tbody tr th {\n",
       "        vertical-align: top;\n",
       "    }\n",
       "\n",
       "    .dataframe thead th {\n",
       "        text-align: right;\n",
       "    }\n",
       "</style>\n",
       "<table border=\"1\" class=\"dataframe\">\n",
       "  <thead>\n",
       "    <tr style=\"text-align: right;\">\n",
       "      <th></th>\n",
       "      <th>covered_lines</th>\n",
       "      <th>total_lines</th>\n",
       "      <th>percentage_covered</th>\n",
       "    </tr>\n",
       "    <tr>\n",
       "      <th>app</th>\n",
       "      <th></th>\n",
       "      <th></th>\n",
       "      <th></th>\n",
       "    </tr>\n",
       "  </thead>\n",
       "  <tbody>\n",
       "    <tr>\n",
       "      <th>alex.map.maps</th>\n",
       "      <td>121</td>\n",
       "      <td>1711</td>\n",
       "      <td>7.071888</td>\n",
       "    </tr>\n",
       "    <tr>\n",
       "      <th>androidlab.carlog</th>\n",
       "      <td>1574</td>\n",
       "      <td>13198</td>\n",
       "      <td>11.926049</td>\n",
       "    </tr>\n",
       "    <tr>\n",
       "      <th>bestfreelivewallpapers.funny_photo_editor</th>\n",
       "      <td>2647</td>\n",
       "      <td>60684</td>\n",
       "      <td>4.361941</td>\n",
       "    </tr>\n",
       "    <tr>\n",
       "      <th>biz.andxor.hearingaid</th>\n",
       "      <td>367</td>\n",
       "      <td>2840</td>\n",
       "      <td>12.922535</td>\n",
       "    </tr>\n",
       "    <tr>\n",
       "      <th>block.app.wars</th>\n",
       "      <td>0</td>\n",
       "      <td>223</td>\n",
       "      <td>0.000000</td>\n",
       "    </tr>\n",
       "  </tbody>\n",
       "</table>\n",
       "</div>"
      ]
     },
     "execution_count": 24,
     "metadata": {},
     "output_type": "execute_result"
    }
   ],
   "source": [
    "systematic_block_coverage_per_app = systematic_coverage_per_app = CoverageHelper.filter(\"block\", \"systematic\", coverage_df).groupby([\"app\"])[\n",
    "    ['covered_lines', 'total_lines']].apply(\n",
    "    lambda x: x.sum())\n",
    "systematic_block_coverage_per_app['percentage_covered'] = (systematic_block_coverage_per_app.covered_lines / systematic_block_coverage_per_app.total_lines) * 100\n",
    "systematic_block_coverage_per_app.head()\n",
    "# systematic_block_coverage_per_app.describe()\n"
   ]
  },
  {
   "cell_type": "code",
   "execution_count": 20,
   "metadata": {},
   "outputs": [
    {
     "data": {
      "text/plain": [
       "<matplotlib.axes._subplots.AxesSubplot at 0x2809acfca20>"
      ]
     },
     "execution_count": 20,
     "metadata": {},
     "output_type": "execute_result"
    },
    {
     "data": {
      "image/png": "[encoded data removed]",
      "text/plain": [
       "<Figure size 432x288 with 1 Axes>"
      ]
     },
     "metadata": {},
     "output_type": "display_data"
    },
    {
     "data": {
      "image/png": "[encoded data removed]",
      "text/plain": [
       "<Figure size 432x288 with 1 Axes>"
      ]
     },
     "metadata": {},
     "output_type": "display_data"
    }
   ],
   "source": [
    "random_and_systematic_block_coverage = pd.concat(\n",
    "    [random_block_coverage_per_app.percentage_covered.rename('random'), systematic_block_coverage_per_app.percentage_covered.rename('systematic')], axis=1,\n",
    "    sort=False)\n",
    "# random_and_systematic_coverage = random_and_systematic_coverage[\n",
    "#     (random_and_systematic_coverage.random != 0) & (random_and_systematic_coverage.systematic != 0)]\n",
    "random_and_systematic_coverage.plot.box()\n",
    "random_and_systematic_coverage.plot()"
   ]
  },
  {
   "cell_type": "code",
   "execution_count": 43,
   "metadata": {},
   "outputs": [
    {
     "data": {
      "text/plain": [
       "<matplotlib.axes._subplots.AxesSubplot at 0x2809e40feb8>"
      ]
     },
     "execution_count": 43,
     "metadata": {},
     "output_type": "execute_result"
    },
    {
     "data": {
      "image/png": "[encoded data removed]",
      "text/plain": [
       "<Figure size 432x288 with 1 Axes>"
      ]
     },
     "metadata": {},
     "output_type": "display_data"
    },
    {
     "data": {
      "image/png": "[encoded data removed]",
      "text/plain": [
       "<Figure size 432x288 with 1 Axes>"
      ]
     },
     "metadata": {},
     "output_type": "display_data"
    }
   ],
   "source": [
    "diff_in_coverage_per_app = random_and_systematic_block_coverage['random'] - random_and_systematic_block_coverage['systematic']\n",
    "# systematic_block_coverage_per_app['percentage_covered'] = (systematic_block_coverage_per_app.covered_lines / systematic_block_coverage_per_app.total_lines) * 100\n",
    "diff_in_coverage_per_app = diff_in_coverage_per_app.to_frame()\n",
    "diff_in_coverage_per_app.plot()\n",
    "diff_in_coverage_per_app[\"total_lines\"] = random_block_coverage_per_app.total_lines\n",
    "diff_in_coverage_per_app.head()\n",
    "\n",
    "diff_in_coverage_per_app.plot.scatter(x=0, y=\"total_lines\")\n",
    "\n",
    "# diff_in_coverage_per_app.describe()"
   ]
  },
  {
   "cell_type": "code",
   "execution_count": 40,
   "metadata": {},
   "outputs": [
    {
     "data": {
      "text/html": [
       "<div>\n",
       "<style scoped>\n",
       "    .dataframe tbody tr th:only-of-type {\n",
       "        vertical-align: middle;\n",
       "    }\n",
       "\n",
       "    .dataframe tbody tr th {\n",
       "        vertical-align: top;\n",
       "    }\n",
       "\n",
       "    .dataframe thead th {\n",
       "        text-align: right;\n",
       "    }\n",
       "</style>\n",
       "<table border=\"1\" class=\"dataframe\">\n",
       "  <thead>\n",
       "    <tr style=\"text-align: right;\">\n",
       "      <th></th>\n",
       "      <th>random</th>\n",
       "      <th>systematic</th>\n",
       "      <th>total_lines</th>\n",
       "    </tr>\n",
       "    <tr>\n",
       "      <th>app</th>\n",
       "      <th></th>\n",
       "      <th></th>\n",
       "      <th></th>\n",
       "    </tr>\n",
       "  </thead>\n",
       "  <tbody>\n",
       "    <tr>\n",
       "      <th>alex.map.maps</th>\n",
       "      <td>20.455874</td>\n",
       "      <td>7.071888</td>\n",
       "      <td>1711</td>\n",
       "    </tr>\n",
       "    <tr>\n",
       "      <th>androidlab.carlog</th>\n",
       "      <td>10.744052</td>\n",
       "      <td>11.926049</td>\n",
       "      <td>13198</td>\n",
       "    </tr>\n",
       "    <tr>\n",
       "      <th>bestfreelivewallpapers.funny_photo_editor</th>\n",
       "      <td>5.770879</td>\n",
       "      <td>4.361941</td>\n",
       "      <td>60684</td>\n",
       "    </tr>\n",
       "    <tr>\n",
       "      <th>biz.andxor.hearingaid</th>\n",
       "      <td>11.866197</td>\n",
       "      <td>12.922535</td>\n",
       "      <td>2840</td>\n",
       "    </tr>\n",
       "    <tr>\n",
       "      <th>block.app.wars</th>\n",
       "      <td>0.000000</td>\n",
       "      <td>0.000000</td>\n",
       "      <td>223</td>\n",
       "    </tr>\n",
       "  </tbody>\n",
       "</table>\n",
       "</div>"
      ],
      "text/plain": [
       "<div>\n",
       "<style scoped>\n",
       "    .dataframe tbody tr th:only-of-type {\n",
       "        vertical-align: middle;\n",
       "    }\n",
       "\n",
       "    .dataframe tbody tr th {\n",
       "        vertical-align: top;\n",
       "    }\n",
       "\n",
       "    .dataframe thead th {\n",
       "        text-align: right;\n",
       "    }\n",
       "</style>\n",
       "<table border=\"1\" class=\"dataframe\">\n",
       "  <thead>\n",
       "    <tr style=\"text-align: right;\">\n",
       "      <th></th>\n",
       "      <th>random</th>\n",
       "      <th>systematic</th>\n",
       "      <th>total_lines</th>\n",
       "    </tr>\n",
       "    <tr>\n",
       "      <th>app</th>\n",
       "      <th></th>\n",
       "      <th></th>\n",
       "      <th></th>\n",
       "    </tr>\n",
       "  </thead>\n",
       "  <tbody>\n",
       "    <tr>\n",
       "      <th>alex.map.maps</th>\n",
       "      <td>20.455874</td>\n",
       "      <td>7.071888</td>\n",
       "      <td>1711</td>\n",
       "    </tr>\n",
       "    <tr>\n",
       "      <th>androidlab.carlog</th>\n",
       "      <td>10.744052</td>\n",
       "      <td>11.926049</td>\n",
       "      <td>13198</td>\n",
       "    </tr>\n",
       "    <tr>\n",
       "      <th>bestfreelivewallpapers.funny_photo_editor</th>\n",
       "      <td>5.770879</td>\n",
       "      <td>4.361941</td>\n",
       "      <td>60684</td>\n",
       "    </tr>\n",
       "    <tr>\n",
       "      <th>biz.andxor.hearingaid</th>\n",
       "      <td>11.866197</td>\n",
       "      <td>12.922535</td>\n",
       "      <td>2840</td>\n",
       "    </tr>\n",
       "    <tr>\n",
       "      <th>block.app.wars</th>\n",
       "      <td>0.000000</td>\n",
       "      <td>0.000000</td>\n",
       "      <td>223</td>\n",
       "    </tr>\n",
       "  </tbody>\n",
       "</table>\n",
       "</div>"
      ]
     },
     "execution_count": 40,
     "metadata": {},
     "output_type": "execute_result"
    },
    {
     "data": {
      "image/png": "[encoded data removed]",
      "text/plain": [
       "<Figure size 432x288 with 1 Axes>"
      ]
     },
     "metadata": {},
     "output_type": "display_data"
    }
   ],
   "source": [
    "\n",
    "test = random_and_systematic_block_coverage\n",
    "test[\"total_lines\"] = random_block_coverage_per_app.total_lines\n",
    "test.plot.scatter(y=\"systematic\", x= \"total_lines\")\n",
    "test.head()\n"
   ]
  },
  {
   "cell_type": "code",
   "execution_count": null,
   "metadata": {},
   "outputs": [],
   "source": []
  }
 ],
 "metadata": {
  "kernelspec": {
   "display_name": "Python 2",
   "language": "python",
   "name": "python2"
  },
  "language_info": {
   "codemirror_mode": {
    "name": "ipython",
    "version": 2
   },
   "file_extension": ".py",
   "mimetype": "text/x-python",
   "name": "python",
   "nbconvert_exporter": "python",
   "pygments_lexer": "ipython2",
   "version": "2.7.6"
  }
 },
 "nbformat": 4,
 "nbformat_minor": 0
}

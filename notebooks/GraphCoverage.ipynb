{
 "cells": [
  {
   "cell_type": "code",
   "execution_count": 1,
   "metadata": {
    "collapsed": false
   },
   "outputs": [
    {
     "name": "stdout",
     "output_type": "stream",
     "text": [
      "Number of apps: \n412\n"
     ]
    },
    {
     "name": "stdout",
     "output_type": "stream",
     "text": [
      "Number of apps: \n412\n"
     ]
    },
    {
     "name": "stdout",
     "output_type": "stream",
     "text": [
      "Total covered methods:\n2298614\n"
     ]
    },
    {
     "name": "stdout",
     "output_type": "stream",
     "text": [
      "Everything is good!\n"
     ]
    },
    {
     "name": "stdout",
     "output_type": "stream",
     "text": [
      "Total entries:\n2067\n"
     ]
    },
    {
     "name": "stdout",
     "output_type": "stream",
     "text": [
      "Total entries:\n41163\n"
     ]
    }
   ],
   "source": [
    "import DataLoader\n",
    "import importlib\n",
    "import pandas as pd\n",
    "import CoverageHelper\n",
    "import seaborn as sns\n",
    "import matplotlib.pyplot as plt\n",
    "import numpy as np\n",
    "from scipy.stats import pearsonr\n",
    "\n",
    "\n",
    "%matplotlib inline\n",
    "importlib.reload(DataLoader)\n",
    "coverage_df = DataLoader.load_csv_coverage()\n",
    "test_graph_df = DataLoader.load_csv_test_graphs()\n",
    "stat_trans_act_graph_df = DataLoader.load_csv_stat_graph(\"-act-transitive\")"
   ]
  },
  {
   "cell_type": "code",
   "execution_count": 2,
   "metadata": {},
   "outputs": [
    {
     "data": {
      "text/plain": [
       "<module 'CoverageHelper' from 'C:\\\\Master\\\\Thesis\\\\IncubatorDataAnalyser\\\\CoverageHelper.py'>"
      ]
     },
     "execution_count": 2,
     "metadata": {},
     "output_type": "execute_result"
    }
   ],
   "source": [
    "\n",
    "importlib.reload(CoverageHelper)"
   ]
  },
  {
   "cell_type": "markdown",
   "metadata": {},
   "source": [
    "Coverage_report"
   ]
  },
  {
   "cell_type": "code",
   "execution_count": 3,
   "metadata": {},
   "outputs": [
    {
     "data": {
      "text/html": [
       "<div>\n",
       "<style scoped>\n",
       "    .dataframe tbody tr th:only-of-type {\n",
       "        vertical-align: middle;\n",
       "    }\n",
       "\n",
       "    .dataframe tbody tr th {\n",
       "        vertical-align: top;\n",
       "    }\n",
       "\n",
       "    .dataframe thead th {\n",
       "        text-align: right;\n",
       "    }\n",
       "</style>\n",
       "<table border=\"1\" class=\"dataframe\">\n",
       "  <thead>\n",
       "    <tr style=\"text-align: right;\">\n",
       "      <th></th>\n",
       "      <th>source</th>\n",
       "      <th>target</th>\n",
       "      <th>action</th>\n",
       "      <th>widget_id</th>\n",
       "      <th>widget</th>\n",
       "      <th>strategy</th>\n",
       "      <th>app</th>\n",
       "    </tr>\n",
       "  </thead>\n",
       "  <tbody>\n",
       "    <tr>\n",
       "      <th>0</th>\n",
       "      <td>name.bagi.levente.pedometer.SplashActivity</td>\n",
       "      <td>NaN</td>\n",
       "      <td>NaN</td>\n",
       "      <td>NaN</td>\n",
       "      <td>NaN</td>\n",
       "      <td>systematic</td>\n",
       "      <td>appinventor.ai_agiapplications.CountYourSteps</td>\n",
       "    </tr>\n",
       "    <tr>\n",
       "      <th>1</th>\n",
       "      <td>name.bagi.levente.pedometer.SplashActivity</td>\n",
       "      <td>com.google.android.gms.ads.AdActivity</td>\n",
       "      <td>click</td>\n",
       "      <td>2.131427e+09</td>\n",
       "      <td>android.widget.Button</td>\n",
       "      <td>random</td>\n",
       "      <td>appinventor.ai_agiapplications.CountYourSteps</td>\n",
       "    </tr>\n",
       "    <tr>\n",
       "      <th>2</th>\n",
       "      <td>com.draw_Graffiti.draw.Splash_Activity</td>\n",
       "      <td>com.draw_Graffiti.draw.MainActivity</td>\n",
       "      <td>click</td>\n",
       "      <td>2.131296e+09</td>\n",
       "      <td>android.widget.Button</td>\n",
       "      <td>systematic</td>\n",
       "      <td>com.draw_Graffiti.draw</td>\n",
       "    </tr>\n",
       "    <tr>\n",
       "      <th>3</th>\n",
       "      <td>com.draw_Graffiti.draw.Splash_Activity</td>\n",
       "      <td>com.draw_Graffiti.draw.MainActivity</td>\n",
       "      <td>click</td>\n",
       "      <td>2.131296e+09</td>\n",
       "      <td>android.widget.Button</td>\n",
       "      <td>random</td>\n",
       "      <td>com.draw_Graffiti.draw</td>\n",
       "    </tr>\n",
       "    <tr>\n",
       "      <th>4</th>\n",
       "      <td>com.lpp.MainActivity</td>\n",
       "      <td>com.unity3d.ads.android.view.UnityAdsFullscree...</td>\n",
       "      <td>back</td>\n",
       "      <td>NaN</td>\n",
       "      <td>NaN</td>\n",
       "      <td>systematic</td>\n",
       "      <td>com.CarsLiveWallpaperHQ</td>\n",
       "    </tr>\n",
       "  </tbody>\n",
       "</table>\n",
       "</div>"
      ],
      "text/plain": [
       "<div>\n",
       "<style scoped>\n",
       "    .dataframe tbody tr th:only-of-type {\n",
       "        vertical-align: middle;\n",
       "    }\n",
       "\n",
       "    .dataframe tbody tr th {\n",
       "        vertical-align: top;\n",
       "    }\n",
       "\n",
       "    .dataframe thead th {\n",
       "        text-align: right;\n",
       "    }\n",
       "</style>\n",
       "<table border=\"1\" class=\"dataframe\">\n",
       "  <thead>\n",
       "    <tr style=\"text-align: right;\">\n",
       "      <th></th>\n",
       "      <th>source</th>\n",
       "      <th>target</th>\n",
       "      <th>action</th>\n",
       "      <th>widget_id</th>\n",
       "      <th>widget</th>\n",
       "      <th>strategy</th>\n",
       "      <th>app</th>\n",
       "    </tr>\n",
       "  </thead>\n",
       "  <tbody>\n",
       "    <tr>\n",
       "      <th>0</th>\n",
       "      <td>name.bagi.levente.pedometer.SplashActivity</td>\n",
       "      <td>NaN</td>\n",
       "      <td>NaN</td>\n",
       "      <td>NaN</td>\n",
       "      <td>NaN</td>\n",
       "      <td>systematic</td>\n",
       "      <td>appinventor.ai_agiapplications.CountYourSteps</td>\n",
       "    </tr>\n",
       "    <tr>\n",
       "      <th>1</th>\n",
       "      <td>name.bagi.levente.pedometer.SplashActivity</td>\n",
       "      <td>com.google.android.gms.ads.AdActivity</td>\n",
       "      <td>click</td>\n",
       "      <td>2.131427e+09</td>\n",
       "      <td>android.widget.Button</td>\n",
       "      <td>random</td>\n",
       "      <td>appinventor.ai_agiapplications.CountYourSteps</td>\n",
       "    </tr>\n",
       "    <tr>\n",
       "      <th>2</th>\n",
       "      <td>com.draw_Graffiti.draw.Splash_Activity</td>\n",
       "      <td>com.draw_Graffiti.draw.MainActivity</td>\n",
       "      <td>click</td>\n",
       "      <td>2.131296e+09</td>\n",
       "      <td>android.widget.Button</td>\n",
       "      <td>systematic</td>\n",
       "      <td>com.draw_Graffiti.draw</td>\n",
       "    </tr>\n",
       "    <tr>\n",
       "      <th>3</th>\n",
       "      <td>com.draw_Graffiti.draw.Splash_Activity</td>\n",
       "      <td>com.draw_Graffiti.draw.MainActivity</td>\n",
       "      <td>click</td>\n",
       "      <td>2.131296e+09</td>\n",
       "      <td>android.widget.Button</td>\n",
       "      <td>random</td>\n",
       "      <td>com.draw_Graffiti.draw</td>\n",
       "    </tr>\n",
       "    <tr>\n",
       "      <th>4</th>\n",
       "      <td>com.lpp.MainActivity</td>\n",
       "      <td>com.unity3d.ads.android.view.UnityAdsFullscree...</td>\n",
       "      <td>back</td>\n",
       "      <td>NaN</td>\n",
       "      <td>NaN</td>\n",
       "      <td>systematic</td>\n",
       "      <td>com.CarsLiveWallpaperHQ</td>\n",
       "    </tr>\n",
       "  </tbody>\n",
       "</table>\n",
       "</div>"
      ]
     },
     "execution_count": 3,
     "metadata": {},
     "output_type": "execute_result"
    }
   ],
   "source": [
    "test_graph_df.head()"
   ]
  },
  {
   "cell_type": "code",
   "execution_count": 5,
   "metadata": {},
   "outputs": [
    {
     "data": {
      "text/plain": [
       "count    412.000000\nmean      20.268312\nstd       17.884459\nmin        0.000000\n25%        7.129994\n50%       14.574038\n75%       29.938018\nmax      100.000000\nName: percentage_covered, dtype: float64"
      ]
     },
     "execution_count": 5,
     "metadata": {},
     "output_type": "execute_result"
    }
   ],
   "source": [
    "systematic_block_coverage = CoverageHelper.calc_coverage(CoverageHelper.filter(\"block\", \"systematic\", coverage_df))\n",
    "systematic_block_coverage.describe()"
   ]
  },
  {
   "cell_type": "code",
   "execution_count": 6,
   "metadata": {},
   "outputs": [
    {
     "data": {
      "text/plain": [
       "count    412.000000\nmean      21.377783\nstd       18.088044\nmin        0.000000\n25%        8.120979\n50%       15.816263\n75%       31.035631\nmax      100.000000\nName: percentage_covered, dtype: float64"
      ]
     },
     "execution_count": 6,
     "metadata": {},
     "output_type": "execute_result"
    }
   ],
   "source": [
    "random_block_coverage = CoverageHelper.calc_coverage(CoverageHelper.filter(\"block\", \"random\", coverage_df))\n",
    "random_block_coverage.describe()"
   ]
  },
  {
   "cell_type": "code",
   "execution_count": 21,
   "metadata": {},
   "outputs": [],
   "source": [
    "diff_coverage = random_block_coverage - systematic_block_coverage\n",
    "diff_coverage = diff_coverage.to_frame(\"diff_coverage\")\n",
    "# diff_coverage.sort_values(by=\"diff_coverage\", ascending=False)"
   ]
  },
  {
   "cell_type": "code",
   "execution_count": 22,
   "metadata": {},
   "outputs": [
    {
     "data": {
      "text/html": [
       "<div>\n",
       "<style scoped>\n",
       "    .dataframe tbody tr th:only-of-type {\n",
       "        vertical-align: middle;\n",
       "    }\n",
       "\n",
       "    .dataframe tbody tr th {\n",
       "        vertical-align: top;\n",
       "    }\n",
       "\n",
       "    .dataframe thead th {\n",
       "        text-align: right;\n",
       "    }\n",
       "</style>\n",
       "<table border=\"1\" class=\"dataframe\">\n",
       "  <thead>\n",
       "    <tr style=\"text-align: right;\">\n",
       "      <th></th>\n",
       "      <th></th>\n",
       "      <th>source</th>\n",
       "      <th>target</th>\n",
       "      <th>action</th>\n",
       "      <th>widget_id</th>\n",
       "      <th>widget</th>\n",
       "    </tr>\n",
       "    <tr>\n",
       "      <th>strategy</th>\n",
       "      <th>app</th>\n",
       "      <th></th>\n",
       "      <th></th>\n",
       "      <th></th>\n",
       "      <th></th>\n",
       "      <th></th>\n",
       "    </tr>\n",
       "  </thead>\n",
       "  <tbody>\n",
       "    <tr>\n",
       "      <th rowspan=\"5\" valign=\"top\">random</th>\n",
       "      <th>alex.map.maps</th>\n",
       "      <td>5</td>\n",
       "      <td>5</td>\n",
       "      <td>5</td>\n",
       "      <td>2</td>\n",
       "      <td>2</td>\n",
       "    </tr>\n",
       "    <tr>\n",
       "      <th>androidlab.carlog</th>\n",
       "      <td>1</td>\n",
       "      <td>0</td>\n",
       "      <td>0</td>\n",
       "      <td>0</td>\n",
       "      <td>0</td>\n",
       "    </tr>\n",
       "    <tr>\n",
       "      <th>appinventor.ai_agiapplications.CountYourSteps</th>\n",
       "      <td>1</td>\n",
       "      <td>1</td>\n",
       "      <td>1</td>\n",
       "      <td>1</td>\n",
       "      <td>1</td>\n",
       "    </tr>\n",
       "    <tr>\n",
       "      <th>asp.aniemo.pack6.ext</th>\n",
       "      <td>1</td>\n",
       "      <td>0</td>\n",
       "      <td>0</td>\n",
       "      <td>0</td>\n",
       "      <td>0</td>\n",
       "    </tr>\n",
       "    <tr>\n",
       "      <th>bestfreelivewallpapers.funny_photo_editor</th>\n",
       "      <td>1</td>\n",
       "      <td>0</td>\n",
       "      <td>0</td>\n",
       "      <td>0</td>\n",
       "      <td>0</td>\n",
       "    </tr>\n",
       "  </tbody>\n",
       "</table>\n",
       "</div>"
      ],
      "text/plain": [
       "<div>\n",
       "<style scoped>\n",
       "    .dataframe tbody tr th:only-of-type {\n",
       "        vertical-align: middle;\n",
       "    }\n",
       "\n",
       "    .dataframe tbody tr th {\n",
       "        vertical-align: top;\n",
       "    }\n",
       "\n",
       "    .dataframe thead th {\n",
       "        text-align: right;\n",
       "    }\n",
       "</style>\n",
       "<table border=\"1\" class=\"dataframe\">\n",
       "  <thead>\n",
       "    <tr style=\"text-align: right;\">\n",
       "      <th></th>\n",
       "      <th></th>\n",
       "      <th>source</th>\n",
       "      <th>target</th>\n",
       "      <th>action</th>\n",
       "      <th>widget_id</th>\n",
       "      <th>widget</th>\n",
       "    </tr>\n",
       "    <tr>\n",
       "      <th>strategy</th>\n",
       "      <th>app</th>\n",
       "      <th></th>\n",
       "      <th></th>\n",
       "      <th></th>\n",
       "      <th></th>\n",
       "      <th></th>\n",
       "    </tr>\n",
       "  </thead>\n",
       "  <tbody>\n",
       "    <tr>\n",
       "      <th rowspan=\"5\" valign=\"top\">random</th>\n",
       "      <th>alex.map.maps</th>\n",
       "      <td>5</td>\n",
       "      <td>5</td>\n",
       "      <td>5</td>\n",
       "      <td>2</td>\n",
       "      <td>2</td>\n",
       "    </tr>\n",
       "    <tr>\n",
       "      <th>androidlab.carlog</th>\n",
       "      <td>1</td>\n",
       "      <td>0</td>\n",
       "      <td>0</td>\n",
       "      <td>0</td>\n",
       "      <td>0</td>\n",
       "    </tr>\n",
       "    <tr>\n",
       "      <th>appinventor.ai_agiapplications.CountYourSteps</th>\n",
       "      <td>1</td>\n",
       "      <td>1</td>\n",
       "      <td>1</td>\n",
       "      <td>1</td>\n",
       "      <td>1</td>\n",
       "    </tr>\n",
       "    <tr>\n",
       "      <th>asp.aniemo.pack6.ext</th>\n",
       "      <td>1</td>\n",
       "      <td>0</td>\n",
       "      <td>0</td>\n",
       "      <td>0</td>\n",
       "      <td>0</td>\n",
       "    </tr>\n",
       "    <tr>\n",
       "      <th>bestfreelivewallpapers.funny_photo_editor</th>\n",
       "      <td>1</td>\n",
       "      <td>0</td>\n",
       "      <td>0</td>\n",
       "      <td>0</td>\n",
       "      <td>0</td>\n",
       "    </tr>\n",
       "  </tbody>\n",
       "</table>\n",
       "</div>"
      ]
     },
     "execution_count": 22,
     "metadata": {},
     "output_type": "execute_result"
    }
   ],
   "source": [
    "valid_test_graph = test_graph_df[(test_graph_df.source != \"com.google.android.gms.ads.AdActivity\") &\n",
    "                                 (test_graph_df.target != \"com.google.android.gms.ads.AdActivity\")]\n",
    "                                 # (test_graph_df.source != \"com.startapp.android.publish.OverlayActivity\") &\n",
    "                                 # (test_graph_df.target != \"com.startapp.android.publish.OverlayActivity\") &\n",
    "                                 # (test_graph_df.action != \"back\")]\n",
    "\n",
    "valid_test_graph = test_graph_df\n",
    "\n",
    "valid_test_graph.drop_duplicates().groupby([\"strategy\", \"app\"]).count().head()"
   ]
  },
  {
   "cell_type": "code",
   "execution_count": 23,
   "metadata": {},
   "outputs": [],
   "source": [
    "random_coverage_with_test_graph = valid_test_graph[(valid_test_graph.strategy == \"random\")].drop(\n",
    "    'strategy', 1).groupby(\"app\").count()\n",
    "systematic_coverage_with_test_graph = valid_test_graph[\n",
    "    (valid_test_graph.strategy == \"systematic\")].drop('strategy', 1).groupby(\"app\").count()"
   ]
  },
  {
   "cell_type": "code",
   "execution_count": 24,
   "metadata": {},
   "outputs": [
    {
     "data": {
      "text/plain": [
       "'\\\\begin{tabular}{lrr}\\n\\\\toprule\\n{} &  edges\\\\_random &  edges\\\\_systematic \\\\\\\\\\n\\\\midrule\\ncount &    412.000000 &        412.000000 \\\\\\\\\\nmean  &      2.483010 &          1.548544 \\\\\\\\\\nstd   &      3.754278 &          2.803382 \\\\\\\\\\nmin   &      0.000000 &          0.000000 \\\\\\\\\\n25\\\\%   &      0.000000 &          0.000000 \\\\\\\\\\n50\\\\%   &      1.000000 &          0.000000 \\\\\\\\\\n75\\\\%   &      3.000000 &          2.000000 \\\\\\\\\\nmax   &     26.000000 &         18.000000 \\\\\\\\\\n\\\\bottomrule\\n\\\\end{tabular}\\n'"
      ]
     },
     "execution_count": 24,
     "metadata": {},
     "output_type": "execute_result"
    },
    {
     "data": {
      "image/png": "[encoded data removed]",
      "text/plain": [
       "<Figure size 432x288 with 1 Axes>"
      ]
     },
     "metadata": {},
     "output_type": "display_data"
    }
   ],
   "source": [
    "boxplot_df_edges = pd.DataFrame()\n",
    "boxplot_df_edges[\"edges_random\"] = random_coverage_with_test_graph.target\n",
    "boxplot_df_edges[\"edges_systematic\"] = systematic_coverage_with_test_graph.target\n",
    "boxplot_df_edges.plot.box()\n",
    "plt.savefig(\"./data/boxplot-edges.pdf\", dpi=1200)\n",
    "boxplot_df_edges.describe().to_latex()"
   ]
  },
  {
   "cell_type": "code",
   "execution_count": 25,
   "metadata": {},
   "outputs": [
    {
     "data": {
      "text/plain": [
       "'\\\\begin{tabular}{lr}\\n\\\\toprule\\n{} &       edges \\\\\\\\\\n\\\\midrule\\ncount &  412.000000 \\\\\\\\\\nmean  &    0.934466 \\\\\\\\\\nstd   &    3.117032 \\\\\\\\\\nmin   &  -13.000000 \\\\\\\\\\n25\\\\%   &    0.000000 \\\\\\\\\\n50\\\\%   &    0.000000 \\\\\\\\\\n75\\\\%   &    2.000000 \\\\\\\\\\nmax   &   16.000000 \\\\\\\\\\n\\\\bottomrule\\n\\\\end{tabular}\\n'"
      ]
     },
     "execution_count": 25,
     "metadata": {},
     "output_type": "execute_result"
    }
   ],
   "source": [
    "diff_in_graph_per_app = random_coverage_with_test_graph['target'] - systematic_coverage_with_test_graph['target']\n",
    "diff_in_graph_per_app = diff_in_graph_per_app.to_frame(\"edges\").dropna()\n",
    "diff_in_graph_per_app.describe().to_latex()"
   ]
  },
  {
   "cell_type": "code",
   "execution_count": 26,
   "metadata": {},
   "outputs": [
    {
     "name": "stderr",
     "output_type": "stream",
     "text": [
      "C:\\Master\\Thesis\\IncubatorDataAnalyser\\venv\\lib\\site-packages\\scipy\\stats\\stats.py:1713: FutureWarning: Using a non-tuple sequence for multidimensional indexing is deprecated; use `arr[tuple(seq)]` instead of `arr[seq]`. In the future this will be interpreted as an array index, `arr[np.array(seq)]`, which will result either in an error or a different result.\n  return np.add.reduce(sorted[indexer] * weights, axis=axis) / sumval\n"
     ]
    },
    {
     "data": {
      "text/html": [
       "<div>\n",
       "<style scoped>\n",
       "    .dataframe tbody tr th:only-of-type {\n",
       "        vertical-align: middle;\n",
       "    }\n",
       "\n",
       "    .dataframe tbody tr th {\n",
       "        vertical-align: top;\n",
       "    }\n",
       "\n",
       "    .dataframe thead th {\n",
       "        text-align: right;\n",
       "    }\n",
       "</style>\n",
       "<table border=\"1\" class=\"dataframe\">\n",
       "  <thead>\n",
       "    <tr style=\"text-align: right;\">\n",
       "      <th></th>\n",
       "      <th>edges</th>\n",
       "      <th>diff_coverage</th>\n",
       "    </tr>\n",
       "  </thead>\n",
       "  <tbody>\n",
       "    <tr>\n",
       "      <th>count</th>\n",
       "      <td>412.000000</td>\n",
       "      <td>412.000000</td>\n",
       "    </tr>\n",
       "    <tr>\n",
       "      <th>mean</th>\n",
       "      <td>0.934466</td>\n",
       "      <td>1.109471</td>\n",
       "    </tr>\n",
       "    <tr>\n",
       "      <th>std</th>\n",
       "      <td>3.117032</td>\n",
       "      <td>6.069239</td>\n",
       "    </tr>\n",
       "    <tr>\n",
       "      <th>min</th>\n",
       "      <td>-13.000000</td>\n",
       "      <td>-42.345277</td>\n",
       "    </tr>\n",
       "    <tr>\n",
       "      <th>25%</th>\n",
       "      <td>0.000000</td>\n",
       "      <td>-0.026845</td>\n",
       "    </tr>\n",
       "    <tr>\n",
       "      <th>50%</th>\n",
       "      <td>0.000000</td>\n",
       "      <td>0.000000</td>\n",
       "    </tr>\n",
       "    <tr>\n",
       "      <th>75%</th>\n",
       "      <td>2.000000</td>\n",
       "      <td>1.554236</td>\n",
       "    </tr>\n",
       "    <tr>\n",
       "      <th>max</th>\n",
       "      <td>16.000000</td>\n",
       "      <td>27.551296</td>\n",
       "    </tr>\n",
       "  </tbody>\n",
       "</table>\n",
       "</div>"
      ],
      "text/plain": [
       "<div>\n",
       "<style scoped>\n",
       "    .dataframe tbody tr th:only-of-type {\n",
       "        vertical-align: middle;\n",
       "    }\n",
       "\n",
       "    .dataframe tbody tr th {\n",
       "        vertical-align: top;\n",
       "    }\n",
       "\n",
       "    .dataframe thead th {\n",
       "        text-align: right;\n",
       "    }\n",
       "</style>\n",
       "<table border=\"1\" class=\"dataframe\">\n",
       "  <thead>\n",
       "    <tr style=\"text-align: right;\">\n",
       "      <th></th>\n",
       "      <th>edges</th>\n",
       "      <th>diff_coverage</th>\n",
       "    </tr>\n",
       "  </thead>\n",
       "  <tbody>\n",
       "    <tr>\n",
       "      <th>count</th>\n",
       "      <td>412.000000</td>\n",
       "      <td>412.000000</td>\n",
       "    </tr>\n",
       "    <tr>\n",
       "      <th>mean</th>\n",
       "      <td>0.934466</td>\n",
       "      <td>1.109471</td>\n",
       "    </tr>\n",
       "    <tr>\n",
       "      <th>std</th>\n",
       "      <td>3.117032</td>\n",
       "      <td>6.069239</td>\n",
       "    </tr>\n",
       "    <tr>\n",
       "      <th>min</th>\n",
       "      <td>-13.000000</td>\n",
       "      <td>-42.345277</td>\n",
       "    </tr>\n",
       "    <tr>\n",
       "      <th>25%</th>\n",
       "      <td>0.000000</td>\n",
       "      <td>-0.026845</td>\n",
       "    </tr>\n",
       "    <tr>\n",
       "      <th>50%</th>\n",
       "      <td>0.000000</td>\n",
       "      <td>0.000000</td>\n",
       "    </tr>\n",
       "    <tr>\n",
       "      <th>75%</th>\n",
       "      <td>2.000000</td>\n",
       "      <td>1.554236</td>\n",
       "    </tr>\n",
       "    <tr>\n",
       "      <th>max</th>\n",
       "      <td>16.000000</td>\n",
       "      <td>27.551296</td>\n",
       "    </tr>\n",
       "  </tbody>\n",
       "</table>\n",
       "</div>"
      ]
     },
     "execution_count": 26,
     "metadata": {},
     "output_type": "execute_result"
    },
    {
     "data": {
      "image/png": "[encoded data removed]",
      "text/plain": [
       "<Figure size 360x360 with 1 Axes>"
      ]
     },
     "metadata": {},
     "output_type": "display_data"
    }
   ],
   "source": [
    "diff_result = pd.concat([diff_in_graph_per_app, diff_coverage], axis=1, sort=False).dropna()\n",
    "sns.lmplot(x='edges', y='diff_coverage', data=diff_result, fit_reg=True)\n",
    "plt.savefig(\"./data/scatterplot-diff-edges-diff-coverage.pdf\", dpi=1200)\n",
    "diff_result.describe()\n",
    "# pearsonr(diff_result.edges, diff_result.diff_coverage)\n"
   ]
  },
  {
   "cell_type": "code",
   "execution_count": 27,
   "metadata": {},
   "outputs": [
    {
     "data": {
      "text/html": [
       "<div>\n",
       "<style scoped>\n",
       "    .dataframe tbody tr th:only-of-type {\n",
       "        vertical-align: middle;\n",
       "    }\n",
       "\n",
       "    .dataframe tbody tr th {\n",
       "        vertical-align: top;\n",
       "    }\n",
       "\n",
       "    .dataframe thead th {\n",
       "        text-align: right;\n",
       "    }\n",
       "</style>\n",
       "<table border=\"1\" class=\"dataframe\">\n",
       "  <thead>\n",
       "    <tr style=\"text-align: right;\">\n",
       "      <th></th>\n",
       "      <th>strategy</th>\n",
       "      <th>app</th>\n",
       "      <th>variable</th>\n",
       "      <th>value</th>\n",
       "    </tr>\n",
       "  </thead>\n",
       "  <tbody>\n",
       "    <tr>\n",
       "      <th>0</th>\n",
       "      <td>systematic</td>\n",
       "      <td>appinventor.ai_agiapplications.CountYourSteps</td>\n",
       "      <td>source</td>\n",
       "      <td>name.bagi.levente.pedometer.SplashActivity</td>\n",
       "    </tr>\n",
       "    <tr>\n",
       "      <th>1</th>\n",
       "      <td>random</td>\n",
       "      <td>appinventor.ai_agiapplications.CountYourSteps</td>\n",
       "      <td>source</td>\n",
       "      <td>name.bagi.levente.pedometer.SplashActivity</td>\n",
       "    </tr>\n",
       "    <tr>\n",
       "      <th>2</th>\n",
       "      <td>systematic</td>\n",
       "      <td>com.draw_Graffiti.draw</td>\n",
       "      <td>source</td>\n",
       "      <td>com.draw_Graffiti.draw.Splash_Activity</td>\n",
       "    </tr>\n",
       "    <tr>\n",
       "      <th>3</th>\n",
       "      <td>random</td>\n",
       "      <td>com.draw_Graffiti.draw</td>\n",
       "      <td>source</td>\n",
       "      <td>com.draw_Graffiti.draw.Splash_Activity</td>\n",
       "    </tr>\n",
       "    <tr>\n",
       "      <th>4</th>\n",
       "      <td>systematic</td>\n",
       "      <td>com.CarsLiveWallpaperHQ</td>\n",
       "      <td>source</td>\n",
       "      <td>com.lpp.MainActivity</td>\n",
       "    </tr>\n",
       "  </tbody>\n",
       "</table>\n",
       "</div>"
      ],
      "text/plain": [
       "<div>\n",
       "<style scoped>\n",
       "    .dataframe tbody tr th:only-of-type {\n",
       "        vertical-align: middle;\n",
       "    }\n",
       "\n",
       "    .dataframe tbody tr th {\n",
       "        vertical-align: top;\n",
       "    }\n",
       "\n",
       "    .dataframe thead th {\n",
       "        text-align: right;\n",
       "    }\n",
       "</style>\n",
       "<table border=\"1\" class=\"dataframe\">\n",
       "  <thead>\n",
       "    <tr style=\"text-align: right;\">\n",
       "      <th></th>\n",
       "      <th>strategy</th>\n",
       "      <th>app</th>\n",
       "      <th>variable</th>\n",
       "      <th>value</th>\n",
       "    </tr>\n",
       "  </thead>\n",
       "  <tbody>\n",
       "    <tr>\n",
       "      <th>0</th>\n",
       "      <td>systematic</td>\n",
       "      <td>appinventor.ai_agiapplications.CountYourSteps</td>\n",
       "      <td>source</td>\n",
       "      <td>name.bagi.levente.pedometer.SplashActivity</td>\n",
       "    </tr>\n",
       "    <tr>\n",
       "      <th>1</th>\n",
       "      <td>random</td>\n",
       "      <td>appinventor.ai_agiapplications.CountYourSteps</td>\n",
       "      <td>source</td>\n",
       "      <td>name.bagi.levente.pedometer.SplashActivity</td>\n",
       "    </tr>\n",
       "    <tr>\n",
       "      <th>2</th>\n",
       "      <td>systematic</td>\n",
       "      <td>com.draw_Graffiti.draw</td>\n",
       "      <td>source</td>\n",
       "      <td>com.draw_Graffiti.draw.Splash_Activity</td>\n",
       "    </tr>\n",
       "    <tr>\n",
       "      <th>3</th>\n",
       "      <td>random</td>\n",
       "      <td>com.draw_Graffiti.draw</td>\n",
       "      <td>source</td>\n",
       "      <td>com.draw_Graffiti.draw.Splash_Activity</td>\n",
       "    </tr>\n",
       "    <tr>\n",
       "      <th>4</th>\n",
       "      <td>systematic</td>\n",
       "      <td>com.CarsLiveWallpaperHQ</td>\n",
       "      <td>source</td>\n",
       "      <td>com.lpp.MainActivity</td>\n",
       "    </tr>\n",
       "  </tbody>\n",
       "</table>\n",
       "</div>"
      ]
     },
     "execution_count": 27,
     "metadata": {},
     "output_type": "execute_result"
    }
   ],
   "source": [
    "number_of_unique_screens_per_app = valid_test_graph[['strategy', 'app', 'source', 'target']].melt(\n",
    "    id_vars=['strategy', 'app'])\n",
    "\n",
    "number_of_unique_screens_per_app.head()"
   ]
  },
  {
   "cell_type": "code",
   "execution_count": 28,
   "metadata": {},
   "outputs": [],
   "source": [
    "ran_n = number_of_unique_screens_per_app[(number_of_unique_screens_per_app.strategy == 'random')].drop(['strategy'],\n",
    "                                                                                                       axis=1)\n",
    "sys_n = number_of_unique_screens_per_app[(number_of_unique_screens_per_app.strategy == 'systematic')].drop(['strategy'],\n",
    "                                                                                                           axis=1)"
   ]
  },
  {
   "cell_type": "code",
   "execution_count": 29,
   "metadata": {},
   "outputs": [
    {
     "data": {
      "text/plain": [
       "'\\\\begin{tabular}{lrr}\\n\\\\toprule\\n{} &  screens\\\\_random &  screens\\\\_systematic \\\\\\\\\\n\\\\midrule\\ncount &      412.000000 &          412.000000 \\\\\\\\\\nmean  &        2.220874 &            1.684466 \\\\\\\\\\nstd   &        1.538556 &            0.916171 \\\\\\\\\\nmin   &        1.000000 &            1.000000 \\\\\\\\\\n25\\\\%   &        1.000000 &            1.000000 \\\\\\\\\\n50\\\\%   &        2.000000 &            1.000000 \\\\\\\\\\n75\\\\%   &        3.000000 &            2.000000 \\\\\\\\\\nmax   &       10.000000 &            6.000000 \\\\\\\\\\n\\\\bottomrule\\n\\\\end{tabular}\\n'"
      ]
     },
     "execution_count": 29,
     "metadata": {},
     "output_type": "execute_result"
    },
    {
     "data": {
      "image/png": "[encoded data removed]",
      "text/plain": [
       "<Figure size 432x288 with 1 Axes>"
      ]
     },
     "metadata": {},
     "output_type": "display_data"
    }
   ],
   "source": [
    "boxplot_df_screens = pd.DataFrame()\n",
    "boxplot_df_screens[\"screens_random\"] = ran_n.groupby(['app']).value.nunique()\n",
    "boxplot_df_screens[\"screens_systematic\"] = sys_n.groupby(['app']).value.nunique()\n",
    "boxplot_df_screens.plot.box()\n",
    "plt.savefig(\"./data/boxplot-screens.pdf\", dpi=1200)\n",
    "boxplot_df_screens.describe().to_latex()"
   ]
  },
  {
   "cell_type": "code",
   "execution_count": 30,
   "metadata": {},
   "outputs": [
    {
     "data": {
      "text/plain": [
       "'\\\\begin{tabular}{lr}\\n\\\\toprule\\n{} &       value \\\\\\\\\\n\\\\midrule\\ncount &  412.000000 \\\\\\\\\\nmean  &    0.536408 \\\\\\\\\\nstd   &    1.129621 \\\\\\\\\\nmin   &   -2.000000 \\\\\\\\\\n25\\\\%   &    0.000000 \\\\\\\\\\n50\\\\%   &    0.000000 \\\\\\\\\\n75\\\\%   &    1.000000 \\\\\\\\\\nmax   &    8.000000 \\\\\\\\\\n\\\\bottomrule\\n\\\\end{tabular}\\n'"
      ]
     },
     "execution_count": 30,
     "metadata": {},
     "output_type": "execute_result"
    }
   ],
   "source": [
    "diff_in_unique_screens = (ran_n.groupby(['app']).value.nunique() - sys_n.groupby(['app']).value.nunique()).dropna()\n",
    "diff_in_unique_screens.describe().to_latex()"
   ]
  },
  {
   "cell_type": "code",
   "execution_count": 31,
   "metadata": {
    "collapsed": false
   },
   "outputs": [
    {
     "name": "stderr",
     "output_type": "stream",
     "text": [
      "C:\\Master\\Thesis\\IncubatorDataAnalyser\\venv\\lib\\site-packages\\scipy\\stats\\stats.py:1713: FutureWarning: Using a non-tuple sequence for multidimensional indexing is deprecated; use `arr[tuple(seq)]` instead of `arr[seq]`. In the future this will be interpreted as an array index, `arr[np.array(seq)]`, which will result either in an error or a different result.\n  return np.add.reduce(sorted[indexer] * weights, axis=axis) / sumval\n"
     ]
    },
    {
     "data": {
      "text/plain": [
       "(0.39347679770114646, 1.0446147290396358e-16)"
      ]
     },
     "execution_count": 31,
     "metadata": {},
     "output_type": "execute_result"
    },
    {
     "data": {
      "image/png": "[encoded data removed]",
      "text/plain": [
       "<Figure size 360x360 with 1 Axes>"
      ]
     },
     "metadata": {},
     "output_type": "display_data"
    }
   ],
   "source": [
    "diff_result = pd.concat([diff_in_unique_screens.to_frame(\"screens\"), diff_coverage], axis=1, sort=False).dropna()\n",
    "# sns.lmplot(x='screens', y='diff_coverage', data=diff_result, fit_reg=True, x_estimator=np.mean)\n",
    "# sns.lmplot(x='screens', y='diff_coverage', data=diff_result, x_jitter=0.05)\n",
    "sns.lmplot(x='screens', y='diff_coverage', data=diff_result)\n",
    "plt.savefig(\"./data/scatterplot-diff-screens-diff-coverage.pdf\", dpi=1200)\n",
    "diff_result.describe()\n",
    "pearsonr(diff_result.screens, diff_result.diff_coverage)\n"
   ]
  },
  {
   "cell_type": "code",
   "execution_count": 32,
   "metadata": {},
   "outputs": [],
   "source": [
    "# # total_screens_stat =\n",
    "# number_of_unique_screens_per_app_stat = stat_trans_act_graph_df[['app', 'source', 'target']].melt(\n",
    "#     id_vars=['app'])\n",
    "# \n",
    "# number_of_unique_screens_per_app_stat.head()\n",
    "# \n",
    "# stat_trans_act_graph_df.app.nunique()\n"
   ]
  },
  {
   "cell_type": "code",
   "execution_count": 33,
   "metadata": {},
   "outputs": [],
   "source": [
    "# number_of_unique_screens_per_app_stat.groupby(\"app\").value.count().head()"
   ]
  },
  {
   "cell_type": "code",
   "execution_count": 34,
   "metadata": {},
   "outputs": [],
   "source": [
    "# random_unique_screens_found_percentage = pd.DataFrame()\n",
    "# random_unique_screens_found_percentage['screens_found'] = ran_n.groupby(['app']).value.nunique() / number_of_unique_screens_per_app_stat.groupby(\"app\").value.count() * 100\n",
    "# # random_unique_screens_found_percentage[]\n",
    "# random_unique_screens_found_percentage.count()\n",
    "# # random_unique_screens_found_percentage.sort_values(by=\"diff_screens\", ascending=False).head()"
   ]
  },
  {
   "cell_type": "code",
   "execution_count": 35,
   "metadata": {},
   "outputs": [],
   "source": [
    "# systematic_unique_screens_found_percentage = sys_n.groupby(['app']).value.nunique() / number_of_unique_screens_per_app_stat.groupby(\"app\").value.count() * 100\n",
    "# systematic_unique_screens_found_percentage = systematic_unique_screens_found_percentage.to_frame(\"screens_found\")\n",
    "# systematic_unique_screens_found_percentage.head()"
   ]
  },
  {
   "cell_type": "code",
   "execution_count": 66,
   "metadata": {},
   "outputs": [],
   "source": [
    "# diff_screen_found_percentage = (random_unique_screens_found_percentage - systematic_unique_screens_found_percentage).dropna()\n",
    "# diff_screen_found_percentage.head()"
   ]
  },
  {
   "cell_type": "code",
   "execution_count": 67,
   "metadata": {},
   "outputs": [],
   "source": [
    "# random_edges_percentage = pd.DataFrame()\n",
    "# random_edges_percentage['edges_found'] = random_coverage_with_test_graph['target'] / stat_trans_act_graph_df.groupby(\"app\").count()[\"target\"] *100\n",
    "# random_edges_percentage.head()"
   ]
  },
  {
   "cell_type": "code",
   "execution_count": 68,
   "metadata": {},
   "outputs": [],
   "source": [
    "# systematic_edges_percentage = pd.DataFrame()\n",
    "# systematic_edges_percentage['edges_found'] = systematic_coverage_with_test_graph['target'] / stat_trans_act_graph_df.groupby(\"app\").count()[\"target\"] *100\n",
    "# systematic_edges_percentage.head()"
   ]
  },
  {
   "cell_type": "code",
   "execution_count": 69,
   "metadata": {},
   "outputs": [],
   "source": [
    "# diff_edges_found_percentage = (random_edges_percentage - systematic_edges_percentage).dropna()\n",
    "# diff_edges_found_percentage.head()"
   ]
  },
  {
   "cell_type": "code",
   "execution_count": 70,
   "metadata": {},
   "outputs": [],
   "source": [
    "# diff_result = pd.concat([diff_edges_found_percentage, diff_in_coverage_per_app.to_frame()], axis=1, sort=False)\n",
    "# diff_result.plot.scatter(x=\"edges_found\", y=\"coverage\")\n",
    "# diff_result.head()\n"
   ]
  },
  {
   "cell_type": "code",
   "execution_count": 61,
   "metadata": {},
   "outputs": [],
   "source": [
    "# diff_result = pd.concat([diff_screen_found_percentage, diff_in_coverage_per_app.to_frame()], axis=1, sort=False)\n",
    "# diff_result.plot.scatter(x=\"screens_found\", y=\"coverage\")\n",
    "# diff_result.head()\n",
    "\n"
   ]
  },
  {
   "cell_type": "code",
   "execution_count": null,
   "metadata": {},
   "outputs": [],
   "source": []
  }
 ],
 "metadata": {
  "kernelspec": {
   "display_name": "Python 3",
   "language": "python",
   "name": "python3"
  },
  "language_info": {
   "codemirror_mode": {
    "name": "ipython",
    "version": 3
   },
   "file_extension": ".py",
   "mimetype": "text/x-python",
   "name": "python",
   "nbconvert_exporter": "python",
   "pygments_lexer": "ipython3",
   "version": "3.6.5"
  }
 },
 "nbformat": 4,
 "nbformat_minor": 1
}
